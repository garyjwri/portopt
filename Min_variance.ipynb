{
  "nbformat": 4,
  "nbformat_minor": 0,
  "metadata": {
    "colab": {
      "provenance": [],
      "authorship_tag": "ABX9TyPSAlsoD7ZLeSnGi5bJliXw",
      "include_colab_link": true
    },
    "kernelspec": {
      "name": "python3",
      "display_name": "Python 3"
    },
    "language_info": {
      "name": "python"
    }
  },
  "cells": [
    {
      "cell_type": "markdown",
      "metadata": {
        "id": "view-in-github",
        "colab_type": "text"
      },
      "source": [
        "<a href=\"https://colab.research.google.com/github/garyjwri/portopt/blob/main/Min_variance.ipynb\" target=\"_parent\"><img src=\"https://colab.research.google.com/assets/colab-badge.svg\" alt=\"Open In Colab\"/></a>"
      ]
    },
    {
      "cell_type": "code",
      "execution_count": 1,
      "metadata": {
        "id": "5XClugqJGnsQ"
      },
      "outputs": [],
      "source": [
        "import numpy as np"
      ]
    },
    {
      "cell_type": "code",
      "source": [
        "mu = np.array([0.06,0.053,0.07,0.08])"
      ],
      "metadata": {
        "id": "VAWMU8LEGqnl"
      },
      "execution_count": 89,
      "outputs": []
    },
    {
      "cell_type": "code",
      "source": [
        "s = np.array([[0.0224,0.0184,0.025,0.0288],[0.0184,0.0223,0.0275,0.0299],[0.025,0.0275,0.0403,0.0438],[0.0288,0.0299,0.0438,0.0515]])\n",
        "s"
      ],
      "metadata": {
        "colab": {
          "base_uri": "https://localhost:8080/"
        },
        "id": "NIu79B8-G4eI",
        "outputId": "b890c1ab-f0ef-4902-8a81-0bfebb0809f2"
      },
      "execution_count": 7,
      "outputs": [
        {
          "output_type": "execute_result",
          "data": {
            "text/plain": [
              "array([[0.0224, 0.0184, 0.025 , 0.0288],\n",
              "       [0.0184, 0.0223, 0.0275, 0.0299],\n",
              "       [0.025 , 0.0275, 0.0403, 0.0438],\n",
              "       [0.0288, 0.0299, 0.0438, 0.0515]])"
            ]
          },
          "metadata": {},
          "execution_count": 7
        }
      ]
    },
    {
      "cell_type": "code",
      "source": [
        "w_test=[ 0.49367089 , 0.50632911,0,0]"
      ],
      "metadata": {
        "id": "kMp2DSxmawcc"
      },
      "execution_count": 121,
      "outputs": []
    },
    {
      "cell_type": "markdown",
      "source": [
        "### Minimum variance using cvxpy"
      ],
      "metadata": {
        "id": "nP5Y3YfHHSiJ"
      }
    },
    {
      "cell_type": "code",
      "source": [
        "import cvxpy as cp"
      ],
      "metadata": {
        "id": "8mYObH__NNTA"
      },
      "execution_count": 62,
      "outputs": []
    },
    {
      "cell_type": "code",
      "source": [
        "np.set_printoptions(suppress=True)"
      ],
      "metadata": {
        "id": "BrYg4ejWXZOT"
      },
      "execution_count": 103,
      "outputs": []
    },
    {
      "cell_type": "code",
      "source": [
        "w = cp.Variable(4)\n",
        "constraints = [cp.sum(w) == 1, w >= 0]\n",
        "variance = cp.quad_form(w, s)\n",
        "prob = cp.Problem(cp.Minimize(variance), constraints)\n",
        "prob.solve()\n",
        "print(w.value)\n",
        "print(w.value @ s @ w.value)"
      ],
      "metadata": {
        "colab": {
          "base_uri": "https://localhost:8080/"
        },
        "id": "pm4s8dL6Pdfb",
        "outputId": "5ae8e3af-16df-4a07-f99a-92eb56f1b8a7"
      },
      "execution_count": 104,
      "outputs": [
        {
          "output_type": "stream",
          "name": "stdout",
          "text": [
            "[ 0.49367089  0.50632911 -0.         -0.        ]\n",
            "0.020374683544303798\n"
          ]
        }
      ]
    },
    {
      "cell_type": "code",
      "source": [
        "# w = cp.Variable(4)\n",
        "constraints = [cp.sum(w) == 1, w >= 0, w @ mu >= 0.06575]\n",
        "# variance = cp.quad_form(w, s)\n",
        "prob = cp.Problem(cp.Minimize(variance), constraints)\n",
        "prob.solve()\n",
        "print(w.value)\n",
        "print(w.value @ s @ w.value)"
      ],
      "metadata": {
        "colab": {
          "base_uri": "https://localhost:8080/"
        },
        "id": "AhjeRXy8W63R",
        "outputId": "d3b2cd7f-364a-4c35-c1c9-a812b59e9d36"
      },
      "execution_count": 105,
      "outputs": [
        {
          "output_type": "stream",
          "name": "stdout",
          "text": [
            "[ 0.7125  0.     -0.      0.2875]\n",
            "0.027427296875000003\n"
          ]
        }
      ]
    },
    {
      "cell_type": "markdown",
      "source": [
        "### Using scipy.optimize"
      ],
      "metadata": {
        "id": "cXXDErIvX7ij"
      }
    },
    {
      "cell_type": "code",
      "source": [
        "from scipy.optimize import minimize, LinearConstraint, Bounds"
      ],
      "metadata": {
        "id": "srK1K0gtSjsg"
      },
      "execution_count": 74,
      "outputs": []
    },
    {
      "cell_type": "code",
      "source": [
        "w_test @ s @ w_test"
      ],
      "metadata": {
        "colab": {
          "base_uri": "https://localhost:8080/"
        },
        "id": "TEnD-0HObmfH",
        "outputId": "eb24162b-90b6-463c-ce4e-a44ce94c8be5"
      },
      "execution_count": 132,
      "outputs": [
        {
          "output_type": "execute_result",
          "data": {
            "text/plain": [
              "0.0203746835443038"
            ]
          },
          "metadata": {},
          "execution_count": 132
        }
      ]
    },
    {
      "cell_type": "code",
      "source": [
        "def variance(w,sigma=s):\n",
        "  return w @ sigma @ w\n",
        "bounds=Bounds(0,1)\n",
        "constraint = {'type':'eq','fun': lambda x: np.sum(x)-1}\n",
        "initial_w = np.ones(4)/4\n",
        "#initial_w = [1,1,0,0]\n",
        "res = minimize(variance, initial_w, method='SLSQP', bounds=bounds, constraints=constraint)\n",
        "print(res.x)\n",
        "print(res.fun)"
      ],
      "metadata": {
        "colab": {
          "base_uri": "https://localhost:8080/"
        },
        "id": "xuMUKlliSjQi",
        "outputId": "fb568e01-c2f1-4371-c694-ac53caf168f3"
      },
      "execution_count": 131,
      "outputs": [
        {
          "output_type": "stream",
          "name": "stdout",
          "text": [
            "[0.51700903 0.48299097 0.         0.        ]\n",
            "0.02037898643023024\n"
          ]
        }
      ]
    },
    {
      "cell_type": "code",
      "source": [
        "constraints = [{'type':'eq','fun': lambda x: np.sum(x)-1},\n",
        "               {'type':'ineq','fun': lambda x: x @ mu - 0.06575}]\n",
        "res = minimize(variance, initial_w, bounds=bounds, constraints=constraints)\n",
        "print(res.x)\n",
        "print(res.fun)"
      ],
      "metadata": {
        "colab": {
          "base_uri": "https://localhost:8080/"
        },
        "id": "ByCEkThrYPU4",
        "outputId": "4178d7b8-27f6-4573-db5f-7802023b263c"
      },
      "execution_count": 120,
      "outputs": [
        {
          "output_type": "stream",
          "name": "stdout",
          "text": [
            "[0.7125 0.     0.     0.2875]\n",
            "0.027427296875000014\n"
          ]
        }
      ]
    },
    {
      "cell_type": "code",
      "source": [],
      "metadata": {
        "id": "vkMqrlmLZkR0"
      },
      "execution_count": null,
      "outputs": []
    }
  ]
}